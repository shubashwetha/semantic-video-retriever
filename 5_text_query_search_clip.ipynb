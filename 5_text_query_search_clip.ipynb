{
 "cells": [
  {
   "cell_type": "markdown",
   "id": "fef2b575",
   "metadata": {},
   "source": [
    "# Step 5: Accepting Text Query and Searching FAISS Index using CLIP\n",
    "\n",
    "This notebook allows you to enter a natural language query and find the top matching video scenes based on CLIP embeddings stored in a FAISS index."
   ]
  },
  {
   "cell_type": "code",
   "execution_count": 34,
   "id": "f9abf358",
   "metadata": {},
   "outputs": [],
   "source": [
    "import os\n",
    "import json\n",
    "import faiss\n",
    "import torch\n",
    "import numpy as np\n",
    "from transformers import CLIPProcessor, CLIPModel\n",
    "\n",
    "# Prevent OpenMP crashes on Windows\n",
    "os.environ[\"KMP_DUPLICATE_LIB_OK\"] = \"TRUE\"\n",
    "\n",
    "# Set device\n",
    "device = \"cuda\" if torch.cuda.is_available() else \"cpu\"\n",
    "\n",
    "# Load CLIP model and processor\n",
    "clip_model = CLIPModel.from_pretrained(\"openai/clip-vit-base-patch32\").to(device)\n",
    "clip_processor = CLIPProcessor.from_pretrained(\"openai/clip-vit-base-patch32\")\n"
   ]
  },
  {
   "cell_type": "markdown",
   "id": "6c2f9bea",
   "metadata": {},
   "source": [
    "## Load FAISS Index and Metadata"
   ]
  },
  {
   "cell_type": "code",
   "execution_count": 35,
   "id": "6ca7b080",
   "metadata": {},
   "outputs": [
    {
     "name": "stdout",
     "output_type": "stream",
     "text": [
      "Loaded FAISS index with 7 scene embeddings.\n"
     ]
    }
   ],
   "source": [
    "# Load FAISS index\n",
    "index = faiss.read_index(\"faiss_index.index\")\n",
    "\n",
    "# Load scene metadata\n",
    "with open(\"scene_metadata.json\", \"r\") as f:\n",
    "    metadata = json.load(f)\n",
    "\n",
    "print(f\"Loaded FAISS index with {index.ntotal} scene embeddings.\")"
   ]
  },
  {
   "cell_type": "markdown",
   "id": "326bc9ad",
   "metadata": {},
   "source": [
    "## Accept User Query and Convert to CLIP Embedding"
   ]
  },
  {
   "cell_type": "code",
   "execution_count": 36,
   "id": "22950041",
   "metadata": {},
   "outputs": [
    {
     "name": "stdout",
     "output_type": "stream",
     "text": [
      "Query shape: (1, 512)\n"
     ]
    }
   ],
   "source": [
    "\n",
    "# Accept user query\n",
    "user_query = input(\"Enter your search query: \")\n",
    "\n",
    "# Convert text to CLIP embedding\n",
    "inputs = clip_processor(text=[user_query], return_tensors=\"pt\", padding=True).to(device)\n",
    "with torch.no_grad():\n",
    "    query_embedding = clip_model.get_text_features(**inputs)\n",
    "\n",
    "# Normalize for FAISS search\n",
    "query_np = query_embedding.cpu().numpy().astype(\"float32\")\n",
    "faiss.normalize_L2(query_np)\n",
    "\n",
    "print(f\"Query shape: {query_np.shape}\")\n"
   ]
  },
  {
   "cell_type": "markdown",
   "id": "8d2d1b63",
   "metadata": {},
   "source": [
    "## Perform Semantic Search"
   ]
  },
  {
   "cell_type": "code",
   "execution_count": 37,
   "id": "3ae09ec4",
   "metadata": {},
   "outputs": [
    {
     "name": "stdout",
     "output_type": "stream",
     "text": [
      "Top 10 scene IDs: [ 3  0  2  4  5  1  6 -1 -1 -1]\n"
     ]
    }
   ],
   "source": [
    "# Search the FAISS index\n",
    "k = 10  # Top K results\n",
    "D, I = index.search(query_np, k)\n",
    "\n",
    "print(f\"Top {k} scene IDs:\", I[0])\n"
   ]
  },
  {
   "cell_type": "markdown",
   "id": "e4d0b6d3",
   "metadata": {},
   "source": [
    "## Show Top Matching Scenes"
   ]
  },
  {
   "cell_type": "code",
   "execution_count": 38,
   "id": "0e92a790",
   "metadata": {},
   "outputs": [
    {
     "name": "stdout",
     "output_type": "stream",
     "text": [
      "\n",
      "Query: 'bus'\n",
      "Matching scenes with score ≥ 0.1:\n",
      "\n",
      "1. Video: vecteezy_third-transportation-ring-of-moscow_28261175_clip_000.mp4\n",
      "   Scene Path: video_data/scenes\\vecteezy_third-transportation-ring-of-moscow_28261175_clip_000.mp4\n",
      "   Similarity Score: 0.2046\n",
      "--------------------------------------------------\n",
      "\n",
      "2. Video: vecteezy_car-and-truck-traffic-on-the-highway-in-europe-poland_7957364_clip_000.mp4\n",
      "   Scene Path: video_data/scenes\\vecteezy_car-and-truck-traffic-on-the-highway-in-europe-poland_7957364_clip_000.mp4\n",
      "   Similarity Score: 0.1976\n",
      "--------------------------------------------------\n",
      "\n",
      "3. Video: vecteezy_car-and-truck-traffic-on-the-highway-in-europe-poland_7957364_clip_002.mp4\n",
      "   Scene Path: video_data/scenes\\vecteezy_car-and-truck-traffic-on-the-highway-in-europe-poland_7957364_clip_002.mp4\n",
      "   Similarity Score: 0.1974\n",
      "--------------------------------------------------\n",
      "\n",
      "4. Video: vecteezy_third-transportation-ring-of-moscow_28261175_clip_001.mp4\n",
      "   Scene Path: video_data/scenes\\vecteezy_third-transportation-ring-of-moscow_28261175_clip_001.mp4\n",
      "   Similarity Score: 0.1952\n",
      "--------------------------------------------------\n",
      "\n",
      "5. Video: vecteezy_third-transportation-ring-of-moscow_28261175_clip_002.mp4\n",
      "   Scene Path: video_data/scenes\\vecteezy_third-transportation-ring-of-moscow_28261175_clip_002.mp4\n",
      "   Similarity Score: 0.1916\n",
      "--------------------------------------------------\n",
      "\n",
      "6. Video: vecteezy_car-and-truck-traffic-on-the-highway-in-europe-poland_7957364_clip_001.mp4\n",
      "   Scene Path: video_data/scenes\\vecteezy_car-and-truck-traffic-on-the-highway-in-europe-poland_7957364_clip_001.mp4\n",
      "   Similarity Score: 0.1899\n",
      "--------------------------------------------------\n",
      "\n",
      "7. Video: vecteezy_third-transportation-ring-of-moscow_28261175_clip_003.mp4\n",
      "   Scene Path: video_data/scenes\\vecteezy_third-transportation-ring-of-moscow_28261175_clip_003.mp4\n",
      "   Similarity Score: 0.1896\n",
      "--------------------------------------------------\n"
     ]
    }
   ],
   "source": [
    "threshold = 0.1  # Minimum similarity score\n",
    "print(f\"\\nQuery: '{user_query}'\")\n",
    "print(f\"Matching scenes with score ≥ {threshold}:\")\n",
    "found = False\n",
    "\n",
    "for i, idx in enumerate(I[0]):\n",
    "    if idx == -1 or idx >= len(metadata):\n",
    "        continue\n",
    "\n",
    "    score = D[0][i]\n",
    "    if score < threshold:\n",
    "        continue\n",
    "\n",
    "    data = metadata[idx]\n",
    "    print(f\"\\n{i+1}. Video: {data.get('video_name', 'N/A')}\")\n",
    "    print(f\"   Scene Path: {data.get('scene_path', 'N/A')}\")\n",
    "    #print(f\"   Timestamp: {data.get('timestamp', 'unknown')} seconds\")\n",
    "    print(f\"   Similarity Score: {score:.4f}\")\n",
    "    print(\"-\" * 50)\n",
    "    found = True\n",
    "\n",
    "if not found:\n",
    "    print(\"No matching scenes passed the filters.\")"
   ]
  }
 ],
 "metadata": {
  "kernelspec": {
   "display_name": "venv",
   "language": "python",
   "name": "python3"
  },
  "language_info": {
   "codemirror_mode": {
    "name": "ipython",
    "version": 3
   },
   "file_extension": ".py",
   "mimetype": "text/x-python",
   "name": "python",
   "nbconvert_exporter": "python",
   "pygments_lexer": "ipython3",
   "version": "3.13.5"
  }
 },
 "nbformat": 4,
 "nbformat_minor": 5
}
