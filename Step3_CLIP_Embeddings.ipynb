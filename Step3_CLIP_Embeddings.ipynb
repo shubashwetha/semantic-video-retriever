{
 "cells": [
  {
   "cell_type": "markdown",
   "id": "67ab0dfd",
   "metadata": {},
   "source": [
    "# Step 3: Generate CLIP Embeddings for Keyframes\n",
    "This notebook loads the keyframes extracted in Step 2 and uses OpenAI's CLIP model to generate image embeddings, which will be used for semantic search later."
   ]
  },
  {
   "cell_type": "code",
   "execution_count": 12,
   "id": "b54c50cb",
   "metadata": {},
   "outputs": [
    {
     "name": "stdout",
     "output_type": "stream",
     "text": [
      "Using device: cpu\n"
     ]
    }
   ],
   "source": [
    "import os\n",
    "import torch\n",
    "import numpy as np\n",
    "from PIL import Image\n",
    "from tqdm import tqdm\n",
    "from transformers import CLIPProcessor, CLIPModel\n",
    "\n",
    "# Set device to GPU if available\n",
    "device = \"cuda\" if torch.cuda.is_available() else \"cpu\"\n",
    "print(\"Using device:\", device)\n"
   ]
  },
  {
   "cell_type": "code",
   "execution_count": 13,
   "id": "9cecc8a4",
   "metadata": {},
   "outputs": [],
   "source": [
    "# Load the CLIP model and processor from Hugging Face\n",
    "clip_model = CLIPModel.from_pretrained(\"openai/clip-vit-base-patch32\").to(device)\n",
    "clip_processor = CLIPProcessor.from_pretrained(\"openai/clip-vit-base-patch32\")\n"
   ]
  },
  {
   "cell_type": "code",
   "execution_count": 14,
   "id": "f9f499fe",
   "metadata": {},
   "outputs": [],
   "source": [
    "# Define keyframe and scene directories\n",
    "keyframe_dir = \"video_data/scene_keyframes\"\n",
    "scene_dir = \"video_data/scenes\"\n",
    "\n",
    "# Output lists for embeddings and metadata\n",
    "embeddings = []\n",
    "metadata = []\n"
   ]
  },
  {
   "cell_type": "code",
   "execution_count": 15,
   "id": "dd7b4f1d",
   "metadata": {},
   "outputs": [
    {
     "name": "stderr",
     "output_type": "stream",
     "text": [
      "Processing scenes: 100%|██████████| 7/7 [00:02<00:00,  3.07it/s]\n"
     ]
    }
   ],
   "source": [
    "# Process all keyframes and generate CLIP embeddings\n",
    "scene_files = sorted([f for f in os.listdir(scene_dir) if f.endswith(\".mp4\")])\n",
    "\n",
    "for scene_file in tqdm(scene_files, desc=\"Processing scenes\"):\n",
    "    scene_path = os.path.join(scene_dir, scene_file)\n",
    "    keyframe_path = os.path.join(keyframe_dir, scene_file.replace(\".mp4\", \".jpg\"))\n",
    "\n",
    "    if not os.path.exists(keyframe_path):\n",
    "        print(f\"Keyframe not found for: {scene_file}\")\n",
    "        continue\n",
    "\n",
    "    try:\n",
    "        image = Image.open(keyframe_path).convert(\"RGB\")\n",
    "        inputs = clip_processor(images=image, return_tensors=\"pt\").to(device)\n",
    "        with torch.no_grad():\n",
    "            embedding = clip_model.get_image_features(**inputs)\n",
    "            embedding = embedding.cpu().numpy().astype(\"float32\")\n",
    "            embedding /= np.linalg.norm(embedding, axis=1, keepdims=True)\n",
    "            embeddings.append(embedding[0])\n",
    "            metadata.append({\n",
    "                \"scene_path\": scene_path,\n",
    "                \"video_name\": scene_file,\n",
    "                \"timestamp\": \"unknown\"\n",
    "            })\n",
    "    except Exception as e:\n",
    "        print(f\"Error processing {scene_file}: {e}\")\n"
   ]
  },
  {
   "cell_type": "code",
   "execution_count": 16,
   "id": "a370d19f",
   "metadata": {},
   "outputs": [
    {
     "name": "stdout",
     "output_type": "stream",
     "text": [
      "Saved 7 embeddings and metadata.\n"
     ]
    }
   ],
   "source": [
    "# Save embeddings and metadata for Step 4\n",
    "np.save(\"embeddings.npy\", np.array(embeddings))\n",
    "import json\n",
    "with open(\"scene_metadata.json\", \"w\") as f:\n",
    "    json.dump(metadata, f, indent=2)\n",
    "\n",
    "print(f\"Saved {len(embeddings)} embeddings and metadata.\")\n"
   ]
  }
 ],
 "metadata": {
  "kernelspec": {
   "display_name": "venv",
   "language": "python",
   "name": "python3"
  },
  "language_info": {
   "codemirror_mode": {
    "name": "ipython",
    "version": 3
   },
   "file_extension": ".py",
   "mimetype": "text/x-python",
   "name": "python",
   "nbconvert_exporter": "python",
   "pygments_lexer": "ipython3",
   "version": "3.13.5"
  }
 },
 "nbformat": 4,
 "nbformat_minor": 5
}
