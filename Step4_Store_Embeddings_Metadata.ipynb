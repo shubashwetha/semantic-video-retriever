{
 "cells": [
  {
   "cell_type": "markdown",
   "id": "faf8653e",
   "metadata": {},
   "source": [
    "# Step 4: Store Embeddings and Metadata in FAISS\n",
    "This notebook loads CLIP embeddings and their corresponding metadata, builds a FAISS index for similarity search, and saves both."
   ]
  },
  {
   "cell_type": "code",
   "execution_count": 7,
   "id": "0f029fdb",
   "metadata": {},
   "outputs": [
    {
     "name": "stdout",
     "output_type": "stream",
     "text": [
      "Loaded 7 embeddings\n"
     ]
    }
   ],
   "source": [
    "import faiss\n",
    "import numpy as np\n",
    "import json\n",
    "\n",
    "# Load previously saved embeddings and metadata\n",
    "embeddings = np.load(\"embeddings.npy\")\n",
    "with open(\"scene_metadata.json\", \"r\") as f:\n",
    "    metadata = json.load(f)\n",
    "\n",
    "print(f\"Loaded {len(embeddings)} embeddings\")\n"
   ]
  },
  {
   "cell_type": "code",
   "execution_count": 8,
   "id": "ac918f7b",
   "metadata": {},
   "outputs": [
    {
     "name": "stdout",
     "output_type": "stream",
     "text": [
      "FAISS index size: 7\n"
     ]
    }
   ],
   "source": [
    "# Normalize embeddings to unit vectors (required for cosine similarity)\n",
    "faiss.normalize_L2(embeddings)\n",
    "\n",
    "# Build FAISS index\n",
    "index = faiss.IndexFlatIP(embeddings.shape[1])  # IP = inner product for cosine similarity\n",
    "index.add(embeddings)\n",
    "\n",
    "print(f\"FAISS index size: {index.ntotal}\")\n"
   ]
  },
  {
   "cell_type": "code",
   "execution_count": 9,
   "id": "7d9b7166",
   "metadata": {},
   "outputs": [
    {
     "name": "stdout",
     "output_type": "stream",
     "text": [
      "FAISS index and metadata saved successfully.\n"
     ]
    }
   ],
   "source": [
    "# Save index and metadata to disk\n",
    "faiss.write_index(index, \"faiss_index.index\")\n",
    "\n",
    "with open(\"scene_metadata.json\", \"w\") as f:\n",
    "    json.dump(metadata, f, indent=2)\n",
    "\n",
    "print(\"FAISS index and metadata saved successfully.\")\n"
   ]
  }
 ],
 "metadata": {
  "kernelspec": {
   "display_name": "venv",
   "language": "python",
   "name": "python3"
  },
  "language_info": {
   "codemirror_mode": {
    "name": "ipython",
    "version": 3
   },
   "file_extension": ".py",
   "mimetype": "text/x-python",
   "name": "python",
   "nbconvert_exporter": "python",
   "pygments_lexer": "ipython3",
   "version": "3.13.5"
  }
 },
 "nbformat": 4,
 "nbformat_minor": 5
}
