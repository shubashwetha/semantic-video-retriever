{
 "cells": [
  {
   "cell_type": "markdown",
   "id": "5fab396b",
   "metadata": {},
   "source": [
    "\n",
    "Step 2: Split Traffic Videos into Fixed-Length Scenes\n",
    "This notebook performs two main tasks:\n",
    "1. Automatically converts all input videos (.mov, .avi) into standardized .mp4 format using FFmpeg.\n",
    "2. Splits each video into fixed-length scenes (e.g., 5 seconds each) for CLIP-based semantic search.\n",
    "   It also logs the time taken to process each video."
   ]
  },
  {
   "cell_type": "markdown",
   "id": "40e3182c",
   "metadata": {},
   "source": [
    "Setup and configuration"
   ]
  },
  {
   "cell_type": "code",
   "execution_count": 1,
   "id": "36248630",
   "metadata": {},
   "outputs": [],
   "source": [
    "import os\n",
    "import cv2\n",
    "import subprocess\n",
    "import time\n",
    "\n",
    "INPUT_DIR = 'video_data/raw_videos'            # Raw input videos of any supported format\n",
    "TEMP_DIR = 'video_data/converted_videos'       # Temp storage for converted .mp4 files\n",
    "OUTPUT_DIR = 'video_data/scenes'               # Output folder for split scene clips\n",
    "CLIP_DURATION = 5  # Duration of each scene (in seconds)\n",
    "# Ensure required folders exist\n",
    "os.makedirs(TEMP_DIR, exist_ok=True)\n",
    "os.makedirs(OUTPUT_DIR, exist_ok=True)"
   ]
  },
  {
   "cell_type": "markdown",
   "id": "9275adda",
   "metadata": {},
   "source": [
    "Function: Convert video file fomats into standard .mp4 for uniformity"
   ]
  },
  {
   "cell_type": "code",
   "execution_count": 2,
   "id": "74be3cdc",
   "metadata": {},
   "outputs": [],
   "source": [
    "def convert_to_mp4(file_path, out_dir):\n",
    "    '''\n",
    "    Uses FFmpeg to convert .mov or .avi files to .mp4 for better compatibility.\n",
    "    Skips files that are already converted.\n",
    "    '''\n",
    "    base_name = os.path.splitext(os.path.basename(file_path))[0]\n",
    "    output_path = os.path.join(out_dir, base_name + '.mp4')\n",
    "    if os.path.exists(output_path):\n",
    "        return output_path  # Already converted\n",
    "\n",
    "    print(f\"Converting {file_path} to .mp4\")\n",
    "    command = [\n",
    "        'ffmpeg', '-y', '-i', file_path,\n",
    "        '-c:v', 'libx264', '-preset', 'fast', '-crf', '23',\n",
    "        '-c:a', 'aac', '-strict', 'experimental',\n",
    "        output_path\n",
    "    ]\n",
    "    try:\n",
    "        subprocess.run(command, check=True, stdout=subprocess.DEVNULL, stderr=subprocess.DEVNULL)\n",
    "        print(f\"Converted: {output_path}\")\n",
    "    except subprocess.CalledProcessError:\n",
    "        print(f\"FFmpeg failed to convert {file_path}\")\n",
    "        return None\n",
    "\n",
    "    return output_path"
   ]
  },
  {
   "cell_type": "markdown",
   "id": "978d9fd6",
   "metadata": {},
   "source": [
    "Function: Split one video into clips"
   ]
  },
  {
   "cell_type": "code",
   "execution_count": 3,
   "id": "db6643c5",
   "metadata": {},
   "outputs": [],
   "source": [
    "def split_video(file_path, out_dir, clip_duration):\n",
    "    '''\n",
    "    Splits the input video into multiple clips of fixed duration.\n",
    "    Saves each scene with a numbered filename.\n",
    "    '''\n",
    "    video_name = os.path.splitext(os.path.basename(file_path))[0]\n",
    "    cap = cv2.VideoCapture(file_path)\n",
    "\n",
    "    if not cap.isOpened():\n",
    "        print(f\"Failed to open {file_path}\")\n",
    "        return\n",
    "\n",
    "    fps = cap.get(cv2.CAP_PROP_FPS)\n",
    "    total_frames = int(cap.get(cv2.CAP_PROP_FRAME_COUNT))\n",
    "    clip_frames = int(fps * clip_duration)\n",
    "\n",
    "    print(f\"🎬 Processing: {video_name} ({total_frames} frames @ {fps:.2f} fps)\")\n",
    "    clip_idx = 0\n",
    "    frame_idx = 0\n",
    "    start_time = time.time()  # Start timing the process\n",
    "\n",
    "    while frame_idx < total_frames:\n",
    "        out_path = os.path.join(out_dir, f\"{video_name}_clip_{clip_idx:03d}.mp4\")\n",
    "        fourcc = cv2.VideoWriter_fourcc(*'mp4v')\n",
    "        writer = cv2.VideoWriter(out_path, fourcc, fps, (\n",
    "            int(cap.get(cv2.CAP_PROP_FRAME_WIDTH)),\n",
    "            int(cap.get(cv2.CAP_PROP_FRAME_HEIGHT))\n",
    "        ))\n",
    "\n",
    "        frames_written = 0\n",
    "        while frames_written < clip_frames and frame_idx < total_frames:\n",
    "            ret, frame = cap.read()\n",
    "            if not ret:\n",
    "                break\n",
    "            writer.write(frame)\n",
    "            frames_written += 1\n",
    "            frame_idx += 1\n",
    "\n",
    "        writer.release()\n",
    "        clip_idx += 1\n",
    "\n",
    "    cap.release()\n",
    "    elapsed = time.time() - start_time\n",
    "    print(f\"Done: {video_name} → {clip_idx} clips (⏱ {elapsed:.2f} sec)\")"
   ]
  },
  {
   "cell_type": "markdown",
   "id": "3a48d763",
   "metadata": {},
   "source": [
    "Run the splitter for all the videos"
   ]
  },
  {
   "cell_type": "code",
   "execution_count": 4,
   "id": "14a0bb79",
   "metadata": {},
   "outputs": [
    {
     "name": "stdout",
     "output_type": "stream",
     "text": [
      "Converting video_data/raw_videos\\vecteezy_car-and-truck-traffic-on-the-highway-in-europe-poland_7957364.mp4 to .mp4\n",
      "Converted: video_data/converted_videos\\vecteezy_car-and-truck-traffic-on-the-highway-in-europe-poland_7957364.mp4\n",
      "🎬 Processing: vecteezy_car-and-truck-traffic-on-the-highway-in-europe-poland_7957364 (307 frames @ 24.00 fps)\n",
      "Done: vecteezy_car-and-truck-traffic-on-the-highway-in-europe-poland_7957364 → 3 clips (⏱ 26.20 sec)\n",
      "Converting video_data/raw_videos\\vecteezy_third-transportation-ring-of-moscow_28261175.mov to .mp4\n",
      "Converted: video_data/converted_videos\\vecteezy_third-transportation-ring-of-moscow_28261175.mp4\n",
      "🎬 Processing: vecteezy_third-transportation-ring-of-moscow_28261175 (443 frames @ 23.98 fps)\n",
      "Done: vecteezy_third-transportation-ring-of-moscow_28261175 → 4 clips (⏱ 9.29 sec)\n"
     ]
    }
   ],
   "source": [
    "video_files = [\n",
    "    f for f in os.listdir(INPUT_DIR)\n",
    "    if f.lower().endswith(('.mp4', '.avi', '.mov'))\n",
    "]\n",
    "\n",
    "for video_file in video_files:\n",
    "    full_path = os.path.join(INPUT_DIR, video_file)\n",
    "    mp4_path = convert_to_mp4(full_path, TEMP_DIR)\n",
    "    if mp4_path:\n",
    "        split_video(mp4_path, OUTPUT_DIR, CLIP_DURATION)\n"
   ]
  }
 ],
 "metadata": {
  "kernelspec": {
   "display_name": "venv",
   "language": "python",
   "name": "python3"
  },
  "language_info": {
   "codemirror_mode": {
    "name": "ipython",
    "version": 3
   },
   "file_extension": ".py",
   "mimetype": "text/x-python",
   "name": "python",
   "nbconvert_exporter": "python",
   "pygments_lexer": "ipython3",
   "version": "3.13.5"
  }
 },
 "nbformat": 4,
 "nbformat_minor": 5
}
